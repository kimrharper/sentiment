{
 "cells": [
  {
   "cell_type": "markdown",
   "metadata": {},
   "source": [
    "## Predicting ratings from comments: beware unequal sample frequencies\n",
    "### 2018 board game comment sentiment analysis session\n",
    "#### John Burt<br/>Portland Data Science Group <br/>Applied Data Science Meetup series\n",
    "\n",
    "\n",
    "<img src=\"machine_learning.png\" width=\"350\" style=\"float: right\">\n",
    "\n",
    "#### Overview: \n",
    "\n",
    "- Train a multinomial Naive-Bayes classifier to predict the 1-10 rating for a board game based on a text comment.\n",
    "- Explore how the unequal distribution of ratings in the training dataset impacts classifier performance.\n",
    "\n",
    "#### The issue:\n",
    "\n",
    "Designing a classifier to estimate ratings based on comment text is a common real-world Natural Language Processing (NLP) application. An issue not often discussed is that many training datasets contain unequal numbers of examples of each output category. For example, in the full BGG comment dataset used for this session, there are 248434 examples of comments for games rated 8, but only 4043 examples of 1-rated game comments. \n",
    "\n",
    "As a result of this, if trained on such unbalanced frequencies, many classifiers will simply learn to estimate every comment as belonging to the most frequent output category (8). A \"rate every game 8\" solution will give reasonable looking results **on average** but, of course it does nothing to help you identify better or worse than 8-rated games!\n",
    "\n",
    "The thing is, if you don't take a closer look at what your model is doing, you may never know that your \"good enough\" classifier actually totally sucks.\n",
    "\n",
    "#### The solution:\n",
    "\n",
    "First, and most obvious, though not always so easy in practice: check your results carefully! Don't rely on an RMSE score for the whole test set to conclude that your solution is working. Look at classifier performance for each category and/or over the range of input and output data. More likely than not you'll find problems on the first pass.\n",
    "\n",
    "In the case of unequal sample frequencies of output categories, sample balancing is a common way to resolve this: when training your model, give it an equal number of examples of each output category. \n",
    "\n",
    "In this notebook, I will explore the effect of balancing on classifier results.\n",
    "\n",
    "#### About the methods used here:\n",
    "\n",
    "I'm using the MultinomialNB classifier beause it's a good fit for the problem, but also it's straightforward to implement. I've tried other classifiers and more extensive text processing, and they all show the same effects I demonstrate here.\n",
    "\n",
    "#### Refs:\n",
    "\n",
    "I found this article helpful \"[Predicting Yelp Stars from Reviews with scikit-learn and Python](http://www.developintelligence.com/blog/2017/03/predicting-yelp-star-ratings-review-text-python/)\""
   ]
  },
  {
   "cell_type": "markdown",
   "metadata": {},
   "source": [
    "#### Set up notebook environment"
   ]
  },
  {
   "cell_type": "code",
   "execution_count": 1,
   "metadata": {},
   "outputs": [],
   "source": [
    "# remove warnings\n",
    "import warnings\n",
    "warnings.filterwarnings('ignore')\n",
    "# ---\n",
    "\n",
    "%matplotlib inline\n",
    "import pandas as pd\n",
    "pd.options.display.max_columns = 100\n",
    "pd.options.display.max_rows = 100\n",
    "from matplotlib import pyplot as plt\n",
    "import matplotlib\n",
    "matplotlib.style.use('ggplot')\n",
    "import numpy as np\n"
   ]
  },
  {
   "cell_type": "markdown",
   "metadata": {},
   "source": [
    "#### Load the comment data, prep it for training"
   ]
  },
  {
   "cell_type": "code",
   "execution_count": 2,
   "metadata": {},
   "outputs": [],
   "source": [
    "# load the comments\n",
    "data = pd.read_csv('boardgame-comments-english.csv')\n",
    "\n",
    "# rename the userID column\n",
    "data = data.rename(columns = {\"Compiled from boardgamegeek.com by Matt Borthwick\":'userID'})\n",
    "\n",
    "# round out ratings to integers - these will be used as classifier target categories\n",
    "data['rating_int'] = np.round(data.rating)\n",
    "\n",
    "# make sure everything is in proper 1-10 range\n",
    "data.rating_int[data.rating_int<1] = 1\n",
    "data.rating_int[data.rating_int>10] = 10\n"
   ]
  },
  {
   "cell_type": "code",
   "execution_count": 3,
   "metadata": {},
   "outputs": [
    {
     "data": {
      "text/html": [
       "<div>\n",
       "<style scoped>\n",
       "    .dataframe tbody tr th:only-of-type {\n",
       "        vertical-align: middle;\n",
       "    }\n",
       "\n",
       "    .dataframe tbody tr th {\n",
       "        vertical-align: top;\n",
       "    }\n",
       "\n",
       "    .dataframe thead th {\n",
       "        text-align: right;\n",
       "    }\n",
       "</style>\n",
       "<table border=\"1\" class=\"dataframe\">\n",
       "  <thead>\n",
       "    <tr style=\"text-align: right;\">\n",
       "      <th></th>\n",
       "      <th>userID</th>\n",
       "      <th>gameID</th>\n",
       "      <th>rating</th>\n",
       "      <th>comment</th>\n",
       "      <th>rating_int</th>\n",
       "    </tr>\n",
       "  </thead>\n",
       "  <tbody>\n",
       "    <tr>\n",
       "      <th>0</th>\n",
       "      <td>172640</td>\n",
       "      <td>24068</td>\n",
       "      <td>7.0</td>\n",
       "      <td>Good:  Unique take on the hidden role games. T...</td>\n",
       "      <td>7.0</td>\n",
       "    </tr>\n",
       "    <tr>\n",
       "      <th>1</th>\n",
       "      <td>86674</td>\n",
       "      <td>24068</td>\n",
       "      <td>7.0</td>\n",
       "      <td>A neat social deduction game with multiple tea...</td>\n",
       "      <td>7.0</td>\n",
       "    </tr>\n",
       "    <tr>\n",
       "      <th>2</th>\n",
       "      <td>10643</td>\n",
       "      <td>24068</td>\n",
       "      <td>7.0</td>\n",
       "      <td>Good hidden roles werewolf style game that can...</td>\n",
       "      <td>7.0</td>\n",
       "    </tr>\n",
       "    <tr>\n",
       "      <th>3</th>\n",
       "      <td>31171</td>\n",
       "      <td>24068</td>\n",
       "      <td>7.0</td>\n",
       "      <td>Overall I hate Mafia/Werewolf, but this versio...</td>\n",
       "      <td>7.0</td>\n",
       "    </tr>\n",
       "    <tr>\n",
       "      <th>4</th>\n",
       "      <td>165608</td>\n",
       "      <td>24068</td>\n",
       "      <td>7.0</td>\n",
       "      <td>Fun social deduction exercise that gets merrie...</td>\n",
       "      <td>7.0</td>\n",
       "    </tr>\n",
       "  </tbody>\n",
       "</table>\n",
       "</div>"
      ],
      "text/plain": [
       "   userID  gameID  rating                                            comment  \\\n",
       "0  172640   24068     7.0  Good:  Unique take on the hidden role games. T...   \n",
       "1   86674   24068     7.0  A neat social deduction game with multiple tea...   \n",
       "2   10643   24068     7.0  Good hidden roles werewolf style game that can...   \n",
       "3   31171   24068     7.0  Overall I hate Mafia/Werewolf, but this versio...   \n",
       "4  165608   24068     7.0  Fun social deduction exercise that gets merrie...   \n",
       "\n",
       "   rating_int  \n",
       "0         7.0  \n",
       "1         7.0  \n",
       "2         7.0  \n",
       "3         7.0  \n",
       "4         7.0  "
      ]
     },
     "execution_count": 3,
     "metadata": {},
     "output_type": "execute_result"
    }
   ],
   "source": [
    "# have a look at the data\n",
    "data.head()"
   ]
  },
  {
   "cell_type": "markdown",
   "metadata": {},
   "source": [
    "### Comment frequencies for each rating level\n",
    "\n",
    "You can see from the histogram below that the majority of comments have ratings between 6-8, with 8-ratings being most by far. Low rated comments, particularly 1-3, are much fewer than higher rated."
   ]
  },
  {
   "cell_type": "code",
   "execution_count": 4,
   "metadata": {},
   "outputs": [
    {
     "data": {
      "image/png": "[encoded data removed]",
      "text/plain": [
       "<Figure size 432x288 with 1 Axes>"
      ]
     },
     "metadata": {},
     "output_type": "display_data"
    }
   ],
   "source": [
    "data.rating_int.hist();"
   ]
  },
  {
   "cell_type": "markdown",
   "metadata": {},
   "source": [
    "## First try: train and test with original unbalanced data\n",
    "\n",
    "#### Our classifier will be a multinomial Naive Bayes\n",
    "\n",
    "See here for more: [Naive Bayes classifier for multinomial models](http://scikit-learn.org/stable/modules/generated/sklearn.naive_bayes.MultinomialNB.html)\n",
    "\n"
   ]
  },
  {
   "cell_type": "markdown",
   "metadata": {},
   "source": [
    "### Convert comment words to weighted count vectors\n",
    "\n",
    "The Naive Bayes classifier needs vectorized data as input.\n",
    "\n",
    "scikit learn's [TfidfVectorizer](http://scikit-learn.org/stable/modules/generated/sklearn.feature_extraction.text.TfidfVectorizer.html) is an all-in-one tool for this:\n",
    "- Removes stop words\n",
    "- Count-vectorizes the words\n",
    "- Weights each word vector based on the Term Frequency Inverse Document Frequency (TF-IDF) algorithm\n",
    "\n",
    "Note 1: Usually before this step there is some text cleanup, such as stemming and removal of punctuation, capitalization, etc, but I've left that out in this example for simplicity (it doesn't improve these results that much anyway).\n",
    "\n",
    "Note 2: You must vectorize all train/test data together, and then partition train/test sets, otherwise the vectors will be different and the classifier won't know that to do with them.\n",
    "\n",
    "Note 3: X, the vectorized output, will be a numpy sparse matrix and we can't use pandas with it.\n",
    "\n",
    "Note 4: This step might take some time to run..."
   ]
  },
  {
   "cell_type": "code",
   "execution_count": 5,
   "metadata": {},
   "outputs": [],
   "source": [
    "from sklearn.feature_extraction.text import TfidfVectorizer\n",
    "\n",
    "# define model defaults for TF-IDF vectorizer.\n",
    "tfidfargs = {\n",
    "    \"analyzer\":'word', \n",
    "    \"max_features\" : None,\n",
    "    \"max_df\" : 0.25, # Filters out terms that occur in more than half of the docs (max_df=0.5)\n",
    "    \"min_df\" : 2, # Filters out terms that occur in only one document (min_df=2).\n",
    "    \"ngram_range\":(1, 3), # unigrams\n",
    "    \"stop_words\" : \"english\", # None, # \"english\", # Strips out “stop words”\n",
    "    \"use_idf\" : True\n",
    "    }\n",
    "\n",
    "# create the vectorizer \n",
    "vectorizer = TfidfVectorizer(**tfidfargs)\n",
    "\n",
    "# Transform the comment text into vectorized data.\n",
    "X_all = vectorizer.fit_transform(data.comment)\n",
    "\n",
    "# our target output: a 1-10 integer rating\n",
    "y_all = data.rating_int"
   ]
  },
  {
   "cell_type": "markdown",
   "metadata": {},
   "source": [
    "#### Create train / test split data"
   ]
  },
  {
   "cell_type": "code",
   "execution_count": 63,
   "metadata": {},
   "outputs": [
    {
     "name": "stdout",
     "output_type": "stream",
     "text": [
      "(673316, 2238676) (168329, 2238676) (673316,) (168329,)\n"
     ]
    }
   ],
   "source": [
    "from sklearn.model_selection import train_test_split\n",
    "\n",
    "X_train, X_test, y_train, y_test = train_test_split(X_all, y_all, test_size=0.2, stratify=y_all)\n",
    "\n",
    "print(X_train.shape, X_test.shape, y_train.shape, y_test.shape)"
   ]
  },
  {
   "cell_type": "markdown",
   "metadata": {},
   "source": [
    "#### Function to calculate RMSE"
   ]
  },
  {
   "cell_type": "code",
   "execution_count": 70,
   "metadata": {},
   "outputs": [],
   "source": [
    "from math import sqrt\n",
    "from statistics import median\n",
    "\n",
    "def calc_RMSE(diffs):\n",
    "    diffs = tuple(diffs)\n",
    "    n = len(diffs)\n",
    "    ad = tuple(abs(diff) for diff in diffs)\n",
    "    rmse = sqrt(sum(v*v for v in diffs) / n)\n",
    "    return rmse      \n"
   ]
  },
  {
   "cell_type": "markdown",
   "metadata": {},
   "source": [
    "### Train the classifier with unbalanced data"
   ]
  },
  {
   "cell_type": "code",
   "execution_count": 80,
   "metadata": {},
   "outputs": [
    {
     "name": "stdout",
     "output_type": "stream",
     "text": [
      "Score = 0.308\n",
      "RMSE = 1.809\n"
     ]
    }
   ],
   "source": [
    "from sklearn.naive_bayes import MultinomialNB\n",
    "\n",
    "# create the classifier\n",
    "clf = MultinomialNB()\n",
    "\n",
    "# train with unbalanced data\n",
    "clf.fit(X_train, y_train)\n",
    "\n",
    "# model score\n",
    "print('Score = %1.3f'%(clf.score(X_test, y_test)))\n",
    "\n",
    "# Get predicted ratings\n",
    "y_pred = clf.predict(X_test)\n",
    "\n",
    "# report RMSE\n",
    "print('RMSE = %1.3f'%(calc_RMSE(y_test-y_pred)))"
   ]
  },
  {
   "cell_type": "markdown",
   "metadata": {},
   "source": [
    "### Let's see how the unbalanced-trained model performed at each rating level\n",
    "\n",
    "I'll plot a confusion matrix, which shows the proportion of predicted ratings vs the actual ratings. If the classifier properly predicting ratings (predicted rating = actual rating), then only cells along the diagonal will be light (i.e., larger values)."
   ]
  },
  {
   "cell_type": "code",
   "execution_count": 81,
   "metadata": {},
   "outputs": [],
   "source": [
    "from sklearn.metrics import confusion_matrix\n",
    "\n",
    "def plot_confusion(y, y_pred, title):\n",
    "\n",
    "    # rating levels\n",
    "    ratings = list(range(1,11))\n",
    "\n",
    "    # generate confusion matrix\n",
    "    cm = confusion_matrix(y, y_pred)\n",
    "\n",
    "    # normalize matrix\n",
    "    cm = cm.astype('float') / cm.sum(axis=1)[:, np.newaxis]\n",
    "\n",
    "    # plot matrix\n",
    "    plt.imshow(cm, interpolation='nearest', cmap=plt.cm.magma)\n",
    "    plt.title(title)\n",
    "    plt.colorbar()\n",
    "    tick_marks = np.arange(len(ratings))\n",
    "    plt.xticks(tick_marks, ratings, rotation=45)\n",
    "    plt.yticks(tick_marks, ratings)\n",
    "    plt.grid(False)\n",
    "    plt.tight_layout()\n",
    "    plt.ylabel('Actual rating')\n",
    "    plt.xlabel('Predicted rating');"
   ]
  },
  {
   "cell_type": "code",
   "execution_count": 82,
   "metadata": {},
   "outputs": [
    {
     "data": {
      "image/png": "[encoded data removed]",
      "text/plain": [
       "<Figure size 432x288 with 2 Axes>"
      ]
     },
     "metadata": {},
     "output_type": "display_data"
    }
   ],
   "source": [
    "# plot the confusion matrix\n",
    "plot_confusion(y_test, y_pred, 'Confusion matrix, unbalanced training')"
   ]
  },
  {
   "cell_type": "markdown",
   "metadata": {},
   "source": [
    "### Result:  \n",
    "- Nearly every test sample, regardless of actual rating, is rated 8. \n",
    "\n",
    "\n",
    "### Conclusion:  This classifier sucks!\n",
    "\n",
    "\n",
    "\n",
    "=====================================================================================\n"
   ]
  },
  {
   "cell_type": "markdown",
   "metadata": {},
   "source": [
    " "
   ]
  },
  {
   "cell_type": "markdown",
   "metadata": {},
   "source": [
    "## Second Try: balanced frequencies of each rating level in training set\n"
   ]
  },
  {
   "cell_type": "markdown",
   "metadata": {},
   "source": [
    "### Function to balance data:\n",
    "\n",
    "This function creates a new dataset with the same number of samples for every rating level. The number of samples for each rating is determined by the rating level with the least number of samples (in this case, 1-ratings). Rating levels with more samples are randomly sub-sampled. Then the function shuffles the entire set."
   ]
  },
  {
   "cell_type": "code",
   "execution_count": 49,
   "metadata": {},
   "outputs": [],
   "source": [
    "from scipy.sparse import vstack\n",
    "\n",
    "# version for separated X and y arrays, X is vectorized text \n",
    "def balance_data_vec(X, y):\n",
    "    minsamples = y.shape[0]\n",
    "    ratings = list(range(1,11))\n",
    "\n",
    "    # get min number of samples per rating level: \n",
    "    #   we'll use this as our sample size for every rating level.\n",
    "    for rating in ratings:\n",
    "        sampsize = (y==rating).sum()\n",
    "        if sampsize < minsamples:\n",
    "            minsamples = sampsize\n",
    "\n",
    "    # take same number of samples for each rating level.\n",
    "    # sample randomly, create a new dataframe with all samples\n",
    "    X_bal = []\n",
    "    y_bal = []\n",
    "    for rating in ratings:\n",
    "        X_r = X[y==rating,:]\n",
    "        y_r = y[y==rating]\n",
    "        idx = list(range(X_r.shape[0]))\n",
    "        np.random.shuffle( idx )\n",
    "        \n",
    "        # create the output arrays\n",
    "        if type(X_bal) == list: \n",
    "            X_bal = X_r[idx[:minsamples],:]\n",
    "            y_bal = np.array([rating]*minsamples)\n",
    "            \n",
    "        # add samples to output arrays\n",
    "        else:\n",
    "            X_bal = vstack((X_bal, X_r[idx[:minsamples],:]))\n",
    "            y_bal = np.append(y_bal, np.array([rating]*minsamples), axis=0 )\n",
    "            \n",
    "    # shuffle all samples\n",
    "    idx = list(range(X_bal.shape[0])) \n",
    "    np.random.shuffle( idx )\n",
    "    X_bal = X_bal[idx,:]\n",
    "    y_bal = y_bal[idx]\n",
    "    \n",
    "    return X_bal, pd.Series(y_bal)"
   ]
  },
  {
   "cell_type": "markdown",
   "metadata": {},
   "source": [
    "### Create a new train / test split with the balanced data"
   ]
  },
  {
   "cell_type": "code",
   "execution_count": 83,
   "metadata": {},
   "outputs": [
    {
     "name": "stdout",
     "output_type": "stream",
     "text": [
      "(32344, 2238676) (8086, 2238676) (32344,) (8086,)\n"
     ]
    }
   ],
   "source": [
    "X_bal, y_bal = balance_data_vec(X_all, y_all.values)\n",
    "\n",
    "X_train_bal, X_test_bal, y_train_bal, y_test_bal = train_test_split(X_bal, y_bal, test_size=0.2, stratify=y_bal)\n",
    "\n",
    "print(X_train_bal.shape, X_test_bal.shape, y_train_bal.shape, y_test_bal.shape)\n"
   ]
  },
  {
   "cell_type": "markdown",
   "metadata": {},
   "source": [
    "### Train the classifier with the balanced training data"
   ]
  },
  {
   "cell_type": "code",
   "execution_count": 84,
   "metadata": {},
   "outputs": [
    {
     "name": "stdout",
     "output_type": "stream",
     "text": [
      "Score = 0.264\n",
      "RMSE = 2.497\n"
     ]
    }
   ],
   "source": [
    "# create the classifier\n",
    "clf_bal = MultinomialNB()\n",
    "\n",
    "# train with all data\n",
    "clf_bal.fit(X_train_bal, y_train_bal)\n",
    "\n",
    "# model score\n",
    "print('Score = %1.3f'%(clf_bal.score(X_test_bal, y_test_bal)))\n",
    "\n",
    "# report RMSE\n",
    "y_pred_bal = clf_bal.predict(X_test_bal)\n",
    "\n",
    "print('RMSE = %1.3f'%(calc_RMSE(y_test_bal - y_pred_bal)))\n"
   ]
  },
  {
   "cell_type": "markdown",
   "metadata": {},
   "source": [
    "### Let's see how the balanced model performed at each rating level\n",
    "\n",
    "Looking at a confusion matrix again, remember: if the classifier is properly predicting ratings (predicted rating = actual rating), then mostly cells along the diagonal will be light (i.e., have larger values)."
   ]
  },
  {
   "cell_type": "code",
   "execution_count": 85,
   "metadata": {
    "scrolled": true
   },
   "outputs": [
    {
     "data": {
      "image/png": "[encoded data removed]",
      "text/plain": [
       "<Figure size 432x288 with 2 Axes>"
      ]
     },
     "metadata": {},
     "output_type": "display_data"
    }
   ],
   "source": [
    "# plot the confusion matrix\n",
    "plot_confusion(y_test_bal, y_pred_bal, 'Confusion matrix, balanced training')"
   ]
  },
  {
   "cell_type": "markdown",
   "metadata": {},
   "source": [
    "### Result:  \n",
    "\n",
    "- Predicted ratings are close to actual ratings, meaning they lie mostly along the diagonal of the confusion matrix. \n",
    "\n",
    "- Extreme ratings, 1 and 10, have the best prediction accuracy, while mid-ratings are lowest. This is probably because comments for mid-ratings are more ambiguous than extreme rating comments.\n",
    "\n",
    "\n",
    "### Conclusion:  This classifier works a lot better!\n",
    "\n",
    "### Next steps:\n",
    "\n",
    "- Try out some text cleanup and pre-processing methods, such as stemming.\n",
    "- Try different classifiers.\n",
    "- Tune the vectorizer and classifier parameters using GridsearchCV.\n"
   ]
  },
  {
   "cell_type": "code",
   "execution_count": null,
   "metadata": {},
   "outputs": [],
   "source": []
  }
 ],
 "metadata": {
  "kernelspec": {
   "display_name": "Python 3",
   "language": "python",
   "name": "python3"
  },
  "language_info": {
   "codemirror_mode": {
    "name": "ipython",
    "version": 3
   },
   "file_extension": ".py",
   "mimetype": "text/x-python",
   "name": "python",
   "nbconvert_exporter": "python",
   "pygments_lexer": "ipython3",
   "version": "3.5.5"
  }
 },
 "nbformat": 4,
 "nbformat_minor": 2
}
